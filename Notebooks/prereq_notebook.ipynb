{
 "cells": [
  {
   "cell_type": "code",
   "execution_count": 3,
   "id": "c0741ef5",
   "metadata": {},
   "outputs": [
    {
     "name": "stdout",
     "output_type": "stream",
     "text": [
      "Nox\n"
     ]
    }
   ],
   "source": [
    "preferred_name = \"Nox\"\n",
    "print(preferred_name)"
   ]
  },
  {
   "cell_type": "markdown",
   "id": "e88f2d96",
   "metadata": {},
   "source": [
    "Hello. My name is Rayna, but I go by Nox due to personal reasons, which is why both my discord and slack show the name Nox. I'm excited to learn everything I can regarding data analysis as I'm hoping to get a good job and hopefully career in the field. I am a hard worker and fairly good at problem solving, but admittedly not the greatest at asking for help if I need it."
   ]
  }
 ],
 "metadata": {
  "kernelspec": {
   "display_name": "Python 3",
   "language": "python",
   "name": "python3"
  },
  "language_info": {
   "codemirror_mode": {
    "name": "ipython",
    "version": 3
   },
   "file_extension": ".py",
   "mimetype": "text/x-python",
   "name": "python",
   "nbconvert_exporter": "python",
   "pygments_lexer": "ipython3",
   "version": "3.13.4"
  }
 },
 "nbformat": 4,
 "nbformat_minor": 5
}
